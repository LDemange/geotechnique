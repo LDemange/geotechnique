{
 "cells": [
  {
   "cell_type": "code",
   "execution_count": 48,
   "id": "22bd11c5",
   "metadata": {},
   "outputs": [],
   "source": [
    "#pip install python-docx \n",
    "from docx import Document"
   ]
  },
  {
   "cell_type": "code",
   "execution_count": 49,
   "id": "f32a25bd",
   "metadata": {},
   "outputs": [],
   "source": [
    "document = Document('Rapport type G2 AVP 2018.docx')"
   ]
  },
  {
   "cell_type": "code",
   "execution_count": 50,
   "id": "f85ecef1",
   "metadata": {},
   "outputs": [
    {
     "name": "stdout",
     "output_type": "stream",
     "text": [
      "NEW_PAGE (2)\n",
      "NEW_PAGE (2)\n"
     ]
    }
   ],
   "source": [
    "sections = document.sections\n",
    "for section in sections:\n",
    "    print(section.start_type)"
   ]
  },
  {
   "cell_type": "code",
   "execution_count": 51,
   "id": "eb1f349a",
   "metadata": {},
   "outputs": [
    {
     "data": {
      "text/plain": [
       "'un plan topographique du site en date du  et référencé ,'"
      ]
     },
     "execution_count": 51,
     "metadata": {},
     "output_type": "execute_result"
    }
   ],
   "source": [
    "document.paragraphs[106].text"
   ]
  },
  {
   "cell_type": "code",
   "execution_count": 52,
   "id": "2a55eea1",
   "metadata": {},
   "outputs": [
    {
     "data": {
      "text/plain": [
       "'un plan topographique du site en date du  et référencé ,'"
      ]
     },
     "execution_count": 52,
     "metadata": {},
     "output_type": "execute_result"
    }
   ],
   "source": [
    "document.paragraphs[106].runs[0].text"
   ]
  },
  {
   "cell_type": "code",
   "execution_count": 53,
   "id": "4932297c",
   "metadata": {},
   "outputs": [
    {
     "data": {
      "text/plain": [
       "<docx.text.run.Run at 0x7fe1fbb8f6d0>"
      ]
     },
     "execution_count": 53,
     "metadata": {},
     "output_type": "execute_result"
    }
   ],
   "source": [
    "#document.add_paragraph('this is some text')\n",
    "#paraObject = document.add_paragraph('I love python')\n",
    "#paraObject.add_run('I am continuing on this paragraph')"
   ]
  },
  {
   "cell_type": "code",
   "execution_count": 56,
   "id": "48ede5fb",
   "metadata": {},
   "outputs": [],
   "source": [
    "document.paragraphs[106].add_run('I am continuing on this paragraph with python')\n",
    "document.save('new-file-name.docx')"
   ]
  },
  {
   "cell_type": "code",
   "execution_count": null,
   "id": "f7178f06",
   "metadata": {},
   "outputs": [],
   "source": []
  }
 ],
 "metadata": {
  "kernelspec": {
   "display_name": "Python 3 (ipykernel)",
   "language": "python",
   "name": "python3"
  },
  "language_info": {
   "codemirror_mode": {
    "name": "ipython",
    "version": 3
   },
   "file_extension": ".py",
   "mimetype": "text/x-python",
   "name": "python",
   "nbconvert_exporter": "python",
   "pygments_lexer": "ipython3",
   "version": "3.9.7"
  },
  "toc": {
   "base_numbering": 1,
   "nav_menu": {},
   "number_sections": true,
   "sideBar": true,
   "skip_h1_title": false,
   "title_cell": "Table of Contents",
   "title_sidebar": "Contents",
   "toc_cell": false,
   "toc_position": {},
   "toc_section_display": true,
   "toc_window_display": false
  }
 },
 "nbformat": 4,
 "nbformat_minor": 5
}
